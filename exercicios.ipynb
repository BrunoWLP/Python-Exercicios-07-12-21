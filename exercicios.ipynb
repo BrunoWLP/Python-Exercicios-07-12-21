{
 "cells": [
  {
   "cell_type": "markdown",
   "source": "",
   "metadata": {
    "tags": [],
    "cell_id": "00000-d4e28303-0ef7-44f9-991c-d90f410bcc2a",
    "deepnote_cell_type": "markdown"
   }
  },
  {
   "cell_type": "markdown",
   "source": "<h2> Exercícios de IF, FOR e While </h2>\n",
   "metadata": {
    "tags": [],
    "cell_id": "00001-e5471c54-9d2e-4d7d-9e07-83364509e931",
    "deepnote_cell_type": "markdown"
   }
  },
  {
   "cell_type": "markdown",
   "source": "### Exercício 1",
   "metadata": {
    "tags": [],
    "cell_id": "00002-c9c5a900-328b-499e-8b89-7bb5dd64b456",
    "deepnote_cell_type": "markdown"
   }
  },
  {
   "cell_type": "code",
   "metadata": {
    "tags": [],
    "cell_id": "00000-491c6e01-0497-43c0-a0c4-b37c4477f639",
    "deepnote_to_be_reexecuted": false,
    "source_hash": "99b0ba65",
    "execution_start": 1639077988945,
    "execution_millis": 6,
    "deepnote_cell_type": "code"
   },
   "source": "# Complete o código abaixo para verificar se a idade armazenada na variável idade tem o valor maior ou igual a 18 anos.\n\nidade = 21\n\nif idade >= 18:\n    print(\"O usuário é maior de idade\")",
   "outputs": [
    {
     "name": "stdout",
     "text": "O usuário é maior de idade\n",
     "output_type": "stream"
    }
   ],
   "execution_count": null
  },
  {
   "cell_type": "markdown",
   "source": "Para os demais exercícios iremos utilizar a função INPUT da linguagem python. O método INPUT permite interagir com os usuários para obter dados.\nVocê deve declarar uma variável para receber o valor digitado pelo usuário. por padrão, os valores obtidos através do método input serão do tipo STRING.",
   "metadata": {
    "tags": [],
    "cell_id": "00005-37a2c26e-0636-4b33-8de3-dc03fd6dc13e",
    "deepnote_cell_type": "markdown"
   }
  },
  {
   "cell_type": "code",
   "metadata": {
    "tags": [],
    "cell_id": "00001-7b58c9d3-55a0-4213-8ff5-d4a7523c9bef",
    "deepnote_to_be_reexecuted": false,
    "source_hash": "83dc5357",
    "execution_start": 1639077988946,
    "execution_millis": 1710,
    "deepnote_cell_type": "code"
   },
   "source": "#exemplo\nnome = input(\"Qual o seu nome?\")\nprint(nome)\n",
   "outputs": [
    {
     "output_type": "error",
     "ename": "KeyboardInterrupt",
     "evalue": "Interrupted by user",
     "traceback": [
      "\u001b[0;31m---------------------------------------------------------------------------\u001b[0m",
      "\u001b[0;31mKeyboardInterrupt\u001b[0m                         Traceback (most recent call last)",
      "\u001b[0;32m<ipython-input-2-a8ff58baf1cf>\u001b[0m in \u001b[0;36m<module>\u001b[0;34m\u001b[0m\n\u001b[1;32m      1\u001b[0m \u001b[0;31m#exemplo\u001b[0m\u001b[0;34m\u001b[0m\u001b[0;34m\u001b[0m\u001b[0;34m\u001b[0m\u001b[0m\n\u001b[0;32m----> 2\u001b[0;31m \u001b[0mnome\u001b[0m \u001b[0;34m=\u001b[0m \u001b[0minput\u001b[0m\u001b[0;34m(\u001b[0m\u001b[0;34m\"Qual o seu nome?\"\u001b[0m\u001b[0;34m)\u001b[0m\u001b[0;34m\u001b[0m\u001b[0;34m\u001b[0m\u001b[0m\n\u001b[0m\u001b[1;32m      3\u001b[0m \u001b[0mprint\u001b[0m\u001b[0;34m(\u001b[0m\u001b[0mnome\u001b[0m\u001b[0;34m)\u001b[0m\u001b[0;34m\u001b[0m\u001b[0;34m\u001b[0m\u001b[0m\n",
      "\u001b[0;32m/shared-libs/python3.7/py-core/lib/python3.7/site-packages/ipykernel/kernelbase.py\u001b[0m in \u001b[0;36mraw_input\u001b[0;34m(self, prompt)\u001b[0m\n\u001b[1;32m    849\u001b[0m             \u001b[0mself\u001b[0m\u001b[0;34m.\u001b[0m\u001b[0m_parent_ident\u001b[0m\u001b[0;34m,\u001b[0m\u001b[0;34m\u001b[0m\u001b[0;34m\u001b[0m\u001b[0m\n\u001b[1;32m    850\u001b[0m             \u001b[0mself\u001b[0m\u001b[0;34m.\u001b[0m\u001b[0m_parent_header\u001b[0m\u001b[0;34m,\u001b[0m\u001b[0;34m\u001b[0m\u001b[0;34m\u001b[0m\u001b[0m\n\u001b[0;32m--> 851\u001b[0;31m             \u001b[0mpassword\u001b[0m\u001b[0;34m=\u001b[0m\u001b[0;32mFalse\u001b[0m\u001b[0;34m,\u001b[0m\u001b[0;34m\u001b[0m\u001b[0;34m\u001b[0m\u001b[0m\n\u001b[0m\u001b[1;32m    852\u001b[0m         )\n\u001b[1;32m    853\u001b[0m \u001b[0;34m\u001b[0m\u001b[0m\n",
      "\u001b[0;32m/shared-libs/python3.7/py-core/lib/python3.7/site-packages/ipykernel/kernelbase.py\u001b[0m in \u001b[0;36m_input_request\u001b[0;34m(self, prompt, ident, parent, password)\u001b[0m\n\u001b[1;32m    890\u001b[0m             \u001b[0;32mexcept\u001b[0m \u001b[0mKeyboardInterrupt\u001b[0m\u001b[0;34m:\u001b[0m\u001b[0;34m\u001b[0m\u001b[0;34m\u001b[0m\u001b[0m\n\u001b[1;32m    891\u001b[0m                 \u001b[0;31m# re-raise KeyboardInterrupt, to truncate traceback\u001b[0m\u001b[0;34m\u001b[0m\u001b[0;34m\u001b[0m\u001b[0;34m\u001b[0m\u001b[0m\n\u001b[0;32m--> 892\u001b[0;31m                 \u001b[0;32mraise\u001b[0m \u001b[0mKeyboardInterrupt\u001b[0m\u001b[0;34m(\u001b[0m\u001b[0;34m\"Interrupted by user\"\u001b[0m\u001b[0;34m)\u001b[0m \u001b[0;32mfrom\u001b[0m \u001b[0;32mNone\u001b[0m\u001b[0;34m\u001b[0m\u001b[0;34m\u001b[0m\u001b[0m\n\u001b[0m\u001b[1;32m    893\u001b[0m             \u001b[0;32mexcept\u001b[0m \u001b[0mException\u001b[0m \u001b[0;32mas\u001b[0m \u001b[0me\u001b[0m\u001b[0;34m:\u001b[0m\u001b[0;34m\u001b[0m\u001b[0;34m\u001b[0m\u001b[0m\n\u001b[1;32m    894\u001b[0m                 \u001b[0mself\u001b[0m\u001b[0;34m.\u001b[0m\u001b[0mlog\u001b[0m\u001b[0;34m.\u001b[0m\u001b[0mwarning\u001b[0m\u001b[0;34m(\u001b[0m\u001b[0;34m\"Invalid Message:\"\u001b[0m\u001b[0;34m,\u001b[0m \u001b[0mexc_info\u001b[0m\u001b[0;34m=\u001b[0m\u001b[0;32mTrue\u001b[0m\u001b[0;34m)\u001b[0m\u001b[0;34m\u001b[0m\u001b[0;34m\u001b[0m\u001b[0m\n",
      "\u001b[0;31mKeyboardInterrupt\u001b[0m: Interrupted by user"
     ]
    }
   ],
   "execution_count": null
  },
  {
   "cell_type": "markdown",
   "source": "Caso você precise utilizar a entrada do usuário com um tipo diferente de STRING, a conversão é feita como no exemplo abaixo:",
   "metadata": {
    "tags": [],
    "cell_id": "00008-0f4c9dab-f218-4840-83ae-92c77ed53b07",
    "deepnote_cell_type": "markdown"
   }
  },
  {
   "cell_type": "code",
   "metadata": {
    "tags": [],
    "cell_id": "00008-f0e2566f-1f23-480e-ab4e-a4aa71e33f68",
    "deepnote_to_be_reexecuted": true,
    "source_hash": "31e365d7",
    "execution_start": 1638912817119,
    "execution_millis": 6503,
    "deepnote_cell_type": "code"
   },
   "source": "numero = int(input(\"Digite um número:\"))\ndobro = numero*2\n\nprint(f\"o dobro de {numero} é {dobro}\")",
   "outputs": [
    {
     "name": "stdout",
     "text": "o dobro de 2 é 4\n",
     "output_type": "stream"
    }
   ],
   "execution_count": null
  },
  {
   "cell_type": "markdown",
   "source": "### Exercício 2",
   "metadata": {
    "tags": [],
    "is_collapsed": false,
    "cell_id": "00005-7dd31155-bec4-4c8c-b498-110ef44a02be",
    "deepnote_cell_type": "text-cell-h3"
   }
  },
  {
   "cell_type": "markdown",
   "source": "Pergunte ao usuário qual a sua idade e caso a idade seja menor que 18 anos imprima na tela \"Usuário menor de idade\".\nCaso a idade seja maior ou igual, imprima \"Usuário maior de idade\"",
   "metadata": {
    "tags": [],
    "cell_id": "00009-2d5fbab3-6b70-4a16-a773-c32b77d45603",
    "deepnote_cell_type": "markdown"
   }
  },
  {
   "cell_type": "code",
   "metadata": {
    "tags": [],
    "cell_id": "00010-e4ad2503-9838-44f0-b63c-a82a61bf46f6",
    "deepnote_to_be_reexecuted": true,
    "source_hash": "8833450c",
    "execution_start": 1638912823630,
    "execution_millis": 8563,
    "deepnote_cell_type": "code"
   },
   "source": "idade = int(input(\"Qual a sua idade?\"))\n\nif idade >= 18:\n    print(\"Usuário maior de idade\")",
   "outputs": [
    {
     "name": "stdout",
     "text": "Usuário maior de idade\n",
     "output_type": "stream"
    }
   ],
   "execution_count": null
  },
  {
   "cell_type": "markdown",
   "source": "### Exercício 3",
   "metadata": {
    "tags": [],
    "cell_id": "00010-145e6c5e-17b0-401f-94a9-6f5b5b996670",
    "deepnote_cell_type": "markdown"
   }
  },
  {
   "cell_type": "markdown",
   "source": "Peça 2 números para o usuário. em seguida imprima o maior deles",
   "metadata": {
    "tags": [],
    "cell_id": "00011-c3f85835-0840-4614-b943-5e216b791a91",
    "deepnote_cell_type": "markdown"
   }
  },
  {
   "cell_type": "code",
   "metadata": {
    "tags": [],
    "cell_id": "00012-ff300f23-0c88-4d21-8db4-d9f37e712388",
    "deepnote_to_be_reexecuted": true,
    "source_hash": "84176d02",
    "execution_start": 1638912832199,
    "execution_millis": 23162,
    "deepnote_cell_type": "code"
   },
   "source": "numero_1 = int(input(\"digite um número\"))\nnumero_2 = int(input(\"digite outro\"))\n\nif numero_1 > numero_2:\n    print(numero_1)\nelse: \n    print(numero_2)",
   "outputs": [
    {
     "name": "stdout",
     "text": "60\n",
     "output_type": "stream"
    }
   ],
   "execution_count": null
  },
  {
   "cell_type": "code",
   "metadata": {
    "tags": [],
    "cell_id": "00015-76b34704-582c-439c-9604-e671c5338ccf",
    "deepnote_to_be_reexecuted": true,
    "source_hash": "b623e53d",
    "execution_start": 1638912855363,
    "execution_millis": 2,
    "deepnote_cell_type": "code"
   },
   "source": "",
   "outputs": [],
   "execution_count": null
  },
  {
   "cell_type": "markdown",
   "source": "### Exercício 4",
   "metadata": {
    "tags": [],
    "cell_id": "00012-4a0ad0f8-fa42-415b-a9dc-812c1dd5889c",
    "deepnote_cell_type": "markdown"
   }
  },
  {
   "cell_type": "markdown",
   "source": "Peça ao usuário 3 idades distintas ao usuário, em seguida, imprima a idade mais velha e a mais nova",
   "metadata": {
    "tags": [],
    "cell_id": "00014-ba590d84-fe1c-45a9-9415-d2362f10dba9",
    "deepnote_cell_type": "markdown"
   }
  },
  {
   "cell_type": "code",
   "metadata": {
    "tags": [],
    "cell_id": "00016-2d739eeb-ced4-486c-8cc6-c59c91fa6d3c",
    "deepnote_to_be_reexecuted": true,
    "source_hash": "ea2f9f52",
    "execution_start": 1639021919671,
    "execution_millis": 12088,
    "deepnote_output_heights": [
     21.1875
    ],
    "deepnote_cell_type": "code"
   },
   "source": "idade1 = int(input(\"Insira a primeira idade: \"))\nidade2 = int(input(\"Insira a segunda idade: \"))\nidade3 = int(input(\"Insira a terceira idade: \"))\n\nlista = [idade1, idade2, idade3]\n\nprint(f\"A maior idade é {max(lista)} e a menor é {min(lista)}\")",
   "outputs": [
    {
     "name": "stdout",
     "text": "A maior idade é 45 e a menor é 2\n",
     "output_type": "stream"
    }
   ],
   "execution_count": null
  },
  {
   "cell_type": "markdown",
   "source": "### Exercício 5",
   "metadata": {
    "tags": [],
    "cell_id": "00016-f695a68e-b671-4dff-94a6-7286a88056b8",
    "deepnote_cell_type": "markdown"
   }
  },
  {
   "cell_type": "markdown",
   "source": "Peça ao usuário um número, em seguida, imprima se o número é impar ou par",
   "metadata": {
    "tags": [],
    "cell_id": "00017-7f716231-4a29-4bbf-bba1-685a2bccfed1",
    "deepnote_cell_type": "markdown"
   }
  },
  {
   "cell_type": "code",
   "metadata": {
    "tags": [],
    "cell_id": "00019-ae0a82a9-04f3-4b5e-a52a-58273ebe6554",
    "deepnote_to_be_reexecuted": true,
    "source_hash": "b40985c5",
    "execution_start": 1638922518011,
    "execution_millis": 2455,
    "deepnote_cell_type": "code"
   },
   "source": "num = int(input(\"Digite um número: \"))\n\nif num % 2 == 0:\n    print(\"Par!\")\nelse:\n    print(\"Ímpar!\")",
   "outputs": [
    {
     "name": "stdout",
     "text": "Par!\n",
     "output_type": "stream"
    }
   ],
   "execution_count": null
  },
  {
   "cell_type": "markdown",
   "source": "### Exercício 6",
   "metadata": {
    "tags": [],
    "cell_id": "00019-0e4c309d-c2b5-4ddd-b7ce-460bf44c7b87",
    "deepnote_cell_type": "markdown"
   }
  },
  {
   "cell_type": "markdown",
   "source": "Dada a variável palavra abaixo, imprima cada letra separadamente",
   "metadata": {
    "tags": [],
    "cell_id": "00020-4567f3b0-f5dc-457b-a15a-d05c1c79ec93",
    "deepnote_cell_type": "markdown"
   }
  },
  {
   "cell_type": "code",
   "metadata": {
    "tags": [],
    "cell_id": "00021-abaa8375-f39b-43ab-aff6-23049e9eff03",
    "deepnote_to_be_reexecuted": true,
    "source_hash": "dd46293f",
    "execution_start": 1638922632630,
    "execution_millis": 16,
    "deepnote_cell_type": "code"
   },
   "source": "palavra = \"PYTHON\"\n\nfor letra in palavra:\n    print(letra, end=' ')",
   "outputs": [
    {
     "name": "stdout",
     "text": "P Y T H O N ",
     "output_type": "stream"
    }
   ],
   "execution_count": null
  },
  {
   "cell_type": "markdown",
   "source": "### Exercício 7",
   "metadata": {
    "tags": [],
    "cell_id": "00022-dcc1c398-a7f1-4a54-8d7e-2814122a2820",
    "deepnote_cell_type": "markdown"
   }
  },
  {
   "cell_type": "markdown",
   "source": "Imprima números de 0 a 20 na sequência",
   "metadata": {
    "tags": [],
    "cell_id": "00023-8e966924-08a5-4da0-946d-f320b19222d2",
    "deepnote_cell_type": "markdown"
   }
  },
  {
   "cell_type": "code",
   "metadata": {
    "tags": [],
    "cell_id": "00025-f018fdf6-1c86-42d6-8937-10836ce9994e",
    "deepnote_to_be_reexecuted": true,
    "source_hash": "8792c43b",
    "execution_start": 1638922737882,
    "execution_millis": 8,
    "deepnote_cell_type": "code"
   },
   "source": "for n in range(21):\n    print(n, end=' ')",
   "outputs": [
    {
     "name": "stdout",
     "text": "0 1 2 3 4 5 6 7 8 9 10 11 12 13 14 15 16 17 18 19 20 ",
     "output_type": "stream"
    }
   ],
   "execution_count": null
  },
  {
   "cell_type": "markdown",
   "source": "Dada a lista abaixo, calcule a quantidade de números pares:",
   "metadata": {
    "tags": [],
    "cell_id": "00026-a0a4aaf3-41b4-4b80-8508-dcded988c3a1",
    "deepnote_cell_type": "markdown"
   }
  },
  {
   "cell_type": "code",
   "metadata": {
    "tags": [],
    "cell_id": "00025-f793c961-5de2-4649-bf04-1cfedeea3f74",
    "deepnote_to_be_reexecuted": true,
    "source_hash": "4f44c475",
    "execution_start": 1638931807291,
    "execution_millis": 2,
    "deepnote_cell_type": "code"
   },
   "source": "lista = [0,2,7,12,98,222,567,1098]\n\ncontador = 0    # contador fora do loop pra não zerar\n\nfor item in lista:\n    if item % 2 == 0:\n        contador += 1\n\nprint(f\"Quantidade de números pares: {contador}\")\n",
   "outputs": [
    {
     "name": "stdout",
     "text": "Quantidade de números pares: 6\n",
     "output_type": "stream"
    }
   ],
   "execution_count": null
  },
  {
   "cell_type": "markdown",
   "source": "Dada a lista abaixo, calcule a soma dos números ímpares:",
   "metadata": {
    "tags": [],
    "cell_id": "00026-f78114f3-12cd-46e6-ade3-851e4e781389",
    "deepnote_cell_type": "markdown"
   }
  },
  {
   "cell_type": "code",
   "metadata": {
    "tags": [],
    "cell_id": "00027-b5c476ef-f20a-40da-bf55-671fa5a05a41",
    "deepnote_to_be_reexecuted": true,
    "source_hash": "1b073cbb",
    "execution_start": 1638931838051,
    "execution_millis": 160,
    "deepnote_cell_type": "code"
   },
   "source": "lista = [0,2,7,12,98,222,567,1098]\n\nsoma = 0\n\nfor item in lista:\n    if item % 2 == 1:\n        soma = soma + item\n\nprint(f\"Soma dos números ímpares: {soma}\")\n",
   "outputs": [
    {
     "name": "stdout",
     "text": "Soma dos números ímpares: 574\n",
     "output_type": "stream"
    }
   ],
   "execution_count": null
  },
  {
   "cell_type": "markdown",
   "source": "### Exercício 8",
   "metadata": {
    "tags": [],
    "cell_id": "00028-285aa97b-af4e-4e7d-add1-d98a6f3129f5",
    "deepnote_to_be_reexecuted": false,
    "source_hash": "496370fa",
    "execution_start": 1630464944436,
    "execution_millis": 0,
    "deepnote_cell_type": "markdown"
   }
  },
  {
   "cell_type": "markdown",
   "source": "Utilizando WHILE, imprima os números de 0 a 10",
   "metadata": {
    "tags": [],
    "cell_id": "00029-abf9f803-7989-41cf-a3f6-15cdadf390bf",
    "deepnote_to_be_reexecuted": false,
    "source_hash": "3096edf6",
    "execution_start": 1630464999279,
    "execution_millis": 8,
    "deepnote_cell_type": "markdown"
   }
  },
  {
   "cell_type": "code",
   "metadata": {
    "tags": [],
    "cell_id": "00030-72cef590-ee15-4677-9437-117c536127d0",
    "deepnote_to_be_reexecuted": true,
    "source_hash": "8d02aea8",
    "execution_start": 1638931856779,
    "execution_millis": 1,
    "deepnote_cell_type": "code"
   },
   "source": "n = 0\nwhile n != 11:   # ou n < 11\n    print(n)\n    n += 1",
   "outputs": [
    {
     "name": "stdout",
     "text": "0\n1\n2\n3\n4\n5\n6\n7\n8\n9\n10\n",
     "output_type": "stream"
    }
   ],
   "execution_count": null
  },
  {
   "cell_type": "markdown",
   "source": "Dada a palavra abaixo armazenada na variável palavra, peça ao usuário para tentar acertar qual é a palavra em 5 tentativas. Caso o usuário erre, deve-se retirar uma tentativa e perguntar novamente mostrando o número de tentativas restantes. Caso estas tentativas zerem, o programa deve ser encerrado com uma mensagem negativa, caso o usuário acerte, uma mensagem de parabéns deve aparecer e o programa deve ser encerrado.",
   "metadata": {
    "tags": [],
    "cell_id": "00032-56cb8431-36dd-4a38-8265-4f3eef95a2ed",
    "deepnote_to_be_reexecuted": false,
    "source_hash": "11cac883",
    "execution_start": 1630465941535,
    "execution_millis": 7,
    "deepnote_cell_type": "markdown"
   }
  },
  {
   "cell_type": "code",
   "metadata": {
    "tags": [],
    "cell_id": "00033-f3631257-fc0a-4e56-ae92-d79c8f947961",
    "deepnote_to_be_reexecuted": true,
    "source_hash": "38044556",
    "execution_start": 1638924461247,
    "execution_millis": 9399,
    "deepnote_cell_type": "code"
   },
   "source": "palavra = \"banana\"\n\ncontador = 0\nwhile contador < 6:\n    chute = str(input(\"Chute a palavra: \"))\n\n    if chute == palavra:\n        print(\"Parabéns! Você acertou!\")\n        break\n    else:\n        contador += 1\n        if contador == 5:\n            print(\"Fim do jogo! Tente outra vez\")\n            break\n        print(f\"Errou! Você tem mais {5 - contador} chance(s)\")\n\n\n\n",
   "outputs": [
    {
     "name": "stdout",
     "text": "Errou! Você tem mais 4 chance(s)\nErrou! Você tem mais 3 chance(s)\nErrou! Você tem mais 2 chance(s)\nErrou! Você tem mais 1 chance(s)\nFim do jogo! Tente outra vez\n",
     "output_type": "stream"
    }
   ],
   "execution_count": null
  },
  {
   "cell_type": "markdown",
   "source": "### Exercício 9",
   "metadata": {
    "tags": [],
    "cell_id": "00034-e9aa3d0a-e2b6-43a2-bf2c-fbc2842a1897",
    "deepnote_cell_type": "markdown"
   }
  },
  {
   "cell_type": "markdown",
   "source": "Utilizando CONTINUE no loop, imprima apenas os números pares",
   "metadata": {
    "tags": [],
    "cell_id": "00035-75357728-6aa0-4f3a-a2d2-423249a048b5",
    "deepnote_cell_type": "markdown"
   }
  },
  {
   "cell_type": "code",
   "metadata": {
    "tags": [],
    "cell_id": "00036-61e2b67c-cda0-43ee-b6ac-e2cc272439a2",
    "deepnote_to_be_reexecuted": true,
    "source_hash": "d7716859",
    "execution_start": 1638931691531,
    "execution_millis": 184,
    "deepnote_cell_type": "code"
   },
   "source": "numbers = [1,3,5213,123,44,50,60,80,13,563]\n\nfor valor in numbers:\n    if valor % 2 == 0:\n        print(valor)\n    else:\n        continue",
   "outputs": [
    {
     "name": "stdout",
     "text": "44\n50\n60\n80\n",
     "output_type": "stream"
    }
   ],
   "execution_count": null
  },
  {
   "cell_type": "markdown",
   "source": "### Exercício 10",
   "metadata": {
    "tags": [],
    "cell_id": "00037-1d29c3c5-b20d-45a2-824d-186f67ab89f5",
    "deepnote_cell_type": "markdown"
   }
  },
  {
   "cell_type": "markdown",
   "source": "Dado o número alvo, peça um input para o usuário tentar acertar o número. Avise o usuário se o número chutado está abaixo ou acima do número alvo.",
   "metadata": {
    "tags": [],
    "cell_id": "00038-5a8c9720-326d-4d56-be48-9c8796b6d348",
    "deepnote_cell_type": "markdown"
   }
  },
  {
   "cell_type": "code",
   "metadata": {
    "tags": [],
    "cell_id": "00039-d6ed62a3-6134-418b-9f1b-8a4cdb6f5a89",
    "deepnote_to_be_reexecuted": true,
    "source_hash": "c679f190",
    "execution_start": 1638925056235,
    "execution_millis": 14550,
    "deepnote_cell_type": "code"
   },
   "source": "target_number = 47\n\nwhile True:\n    guess = int(input(\"Guess the number: \"))\n    if guess > 47:\n        print(\"Lower...\")\n    elif guess < 47: \n        print(\"Higher!\")\n    else: \n        print(f\"Congratulations! {target_number} is the correct number!\")\n        break\n",
   "outputs": [
    {
     "name": "stdout",
     "text": "Higher!\nLower...\nHigher!\nLower...\nCongratulations! 47 is the correct number!\n",
     "output_type": "stream"
    }
   ],
   "execution_count": null
  },
  {
   "cell_type": "markdown",
   "source": "### Exercício 11",
   "metadata": {
    "tags": [],
    "cell_id": "00040-74335001-4d62-47a7-a967-0ee8af647910",
    "deepnote_cell_type": "markdown"
   }
  },
  {
   "cell_type": "markdown",
   "source": "Dado o número de cartão abaixo, imprima o número mascarando com * os dígitos, deixando visível apenas os 4 últimos. Por exemplo '587454787547' -> ********7547\n",
   "metadata": {
    "tags": [],
    "cell_id": "00041-5253bd8b-ec0f-4c55-b449-8a2e93e6feae",
    "deepnote_cell_type": "markdown"
   }
  },
  {
   "cell_type": "code",
   "metadata": {
    "tags": [],
    "cell_id": "00042-53958267-fb60-46da-a422-81a5c3fc0069",
    "deepnote_to_be_reexecuted": true,
    "source_hash": "7a285246",
    "execution_start": 1638931475960,
    "execution_millis": 5,
    "deepnote_output_heights": [
     21.1875
    ],
    "deepnote_cell_type": "code"
   },
   "source": "numero_cartao = '587454787547'\n\ncontador = len(numero_cartao) # 12\n\nfor i in numero_cartao:\n    print('*' if contador > 4 else i, end='')\n    contador -= 1\n\n\n\n\n\n\n",
   "outputs": [
    {
     "name": "stdout",
     "text": "********7547",
     "output_type": "stream"
    }
   ],
   "execution_count": null
  },
  {
   "cell_type": "markdown",
   "source": "### Exercício 12",
   "metadata": {
    "tags": [],
    "cell_id": "00043-30dd04b6-878e-4186-90cf-da41c4dd0abf",
    "deepnote_cell_type": "markdown"
   }
  },
  {
   "cell_type": "markdown",
   "source": "Peça ao usuário um número N, imprima na tela a sequência de fibonacci até o número N.",
   "metadata": {
    "tags": [],
    "cell_id": "00044-c7b5e43a-b3e4-494e-be1e-100994d36b90",
    "deepnote_to_be_reexecuted": false,
    "source_hash": "1670f4da",
    "execution_start": 1634591816172,
    "execution_millis": 273,
    "deepnote_cell_type": "markdown"
   }
  },
  {
   "cell_type": "code",
   "metadata": {
    "tags": [],
    "cell_id": "00045-97223b8e-05cf-4613-9ac8-905da74cc78b",
    "deepnote_to_be_reexecuted": false,
    "source_hash": "641e5fd1",
    "execution_start": 1639078009179,
    "execution_millis": 4231,
    "deepnote_cell_type": "code"
   },
   "source": "# fib = 0, 1, 1, 2, 3, 5, 8, 13...  - soma dois últimos elementos = próximo elemento\n\nnumero = int(input('Ver quantos termos? '))\n\nn1 = 0\nn2 = 1\n\nprint(0, 1, end=' ')\n\ncontador = 2\nwhile contador < numero:\n    n3 = n2 + n1\n    print(n3, end=' ')\n    n1 = n2\n    n2 = n3\n    contador += 1\n",
   "outputs": [
    {
     "name": "stdout",
     "text": "0 1 1 2 3 5 8 13 21 34 55 89 ",
     "output_type": "stream"
    }
   ],
   "execution_count": null
  },
  {
   "cell_type": "markdown",
   "source": "<a style='text-decoration:none;line-height:16px;display:flex;color:#5B5B62;padding:10px;justify-content:end;' href='https://deepnote.com?utm_source=created-in-deepnote-cell&projectId=a94030fa-a627-4e82-bf03-f5c7624ed543' target=\"_blank\">\n<img alt='Created in deepnote.com' style='display:inline;max-height:16px;margin:0px;margin-right:7.5px;' src='data:image/svg+xml;base64,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' > </img>\nCreated in <span style='font-weight:600;margin-left:4px;'>Deepnote</span></a>",
   "metadata": {
    "tags": [],
    "created_in_deepnote_cell": true,
    "deepnote_cell_type": "markdown"
   }
  }
 ],
 "nbformat": 4,
 "nbformat_minor": 2,
 "metadata": {
  "orig_nbformat": 2,
  "deepnote": {
   "is_reactive": false
  },
  "deepnote_notebook_id": "f68ef9f2-3c8b-46c0-b252-c65b2c51b44c",
  "deepnote_execution_queue": []
 }
}